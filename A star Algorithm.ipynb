{
 "cells": [
  {
   "cell_type": "markdown",
   "metadata": {},
   "source": [
    "# A* Algorithm"
   ]
  },
  {
   "cell_type": "code",
   "execution_count": 1,
   "metadata": {},
   "outputs": [],
   "source": [
    "Graph_nodes = {\n",
    "    'S': [('B', 4), ('C', 3)],\n",
    "    'B': [('F', 5)],\n",
    "    'C':[('E', 10), ('D', 7)],\n",
    "    'D': [('E', 2)],\n",
    "    'E': [('G', 5)],\n",
    "    'F': [('G', 16)],\n",
    "    'G': [('G', 0)],\n",
    "}"
   ]
  },
  {
   "cell_type": "code",
   "execution_count": 2,
   "metadata": {},
   "outputs": [],
   "source": [
    "def get_neighbors(v):\n",
    "    if v in Graph_nodes:\n",
    "        return Graph_nodes[v]\n",
    "    else:\n",
    "        return None"
   ]
  },
  {
   "cell_type": "code",
   "execution_count": 3,
   "metadata": {},
   "outputs": [],
   "source": [
    "def heuristic(n):\n",
    "    H_dist = {\n",
    "        'S': 14,\n",
    "        'B': 12,\n",
    "        'C': 11,\n",
    "        'D': 6,\n",
    "        'E': 4,\n",
    "        'F': 11,\n",
    "        'G': 0,\n",
    "    }\n",
    "    \n",
    "    return H_dist[n]"
   ]
  },
  {
   "cell_type": "code",
   "execution_count": 4,
   "metadata": {},
   "outputs": [],
   "source": [
    "def aStarAlgo(start_node, stop_node):\n",
    "    open_set = set(start_node)\n",
    "    closed_set = set()\n",
    "\n",
    "    g = {}\n",
    "    parents = {}\n",
    "\n",
    "    g[start_node] = 0\n",
    "    parents[start_node] = start_node\n",
    "    while len(open_set) > 0:\n",
    "        n = None\n",
    "        \n",
    "        for v in open_set:\n",
    "            if n == None or g[v] + heuristic(v) < g[n] + heuristic(n):\n",
    "                n = v\n",
    "        \n",
    "        if n == stop_node or Graph_nodes[n] == None:\n",
    "            pass\n",
    "        else:\n",
    "            for (m, weight) in get_neighbors(n):\n",
    "                if m not in open_set and m not in closed_set:\n",
    "                    open_set.add(m)\n",
    "                    parents[m] = n\n",
    "                    g[m] = g[n] + weight\n",
    "                else:\n",
    "                    if g[m] > g[n] + weight:\n",
    "                        g[m] = g[n] + weight\n",
    "                        parents[m] = n\n",
    "\n",
    "                        if m in closed_set:\n",
    "                            closed_set.remove(m)\n",
    "                            open_set.add(m)\n",
    "        \n",
    "        if n == None:\n",
    "            print(\"Path does not exist!\")\n",
    "            return None\n",
    "\n",
    "        if n == stop_node:\n",
    "            path = []\n",
    "            while parents[n] != n:\n",
    "                path.append(n)\n",
    "                n = parents[n]\n",
    "\n",
    "            path.append(start_node)\n",
    "\n",
    "            path.reverse()\n",
    "            print(\"Path found: {}\".format(path))\n",
    "            return path\n",
    "        \n",
    "        open_set.remove(n)\n",
    "        closed_set.add(n)\n",
    "        \n",
    "    print(\"Path does not exist\")\n",
    "    return None"
   ]
  },
  {
   "cell_type": "code",
   "execution_count": 5,
   "metadata": {},
   "outputs": [
    {
     "name": "stdout",
     "output_type": "stream",
     "text": [
      "Path found: ['S', 'C', 'D', 'E', 'G']\n"
     ]
    },
    {
     "data": {
      "text/plain": [
       "['S', 'C', 'D', 'E', 'G']"
      ]
     },
     "execution_count": 5,
     "metadata": {},
     "output_type": "execute_result"
    }
   ],
   "source": [
    "aStarAlgo('S', 'G')"
   ]
  },
  {
   "cell_type": "markdown",
   "metadata": {},
   "source": [
    "## END OF CODE"
   ]
  }
 ],
 "metadata": {
  "kernelspec": {
   "display_name": "Python 3 (ipykernel)",
   "language": "python",
   "name": "python3"
  },
  "language_info": {
   "codemirror_mode": {
    "name": "ipython",
    "version": 3
   },
   "file_extension": ".py",
   "mimetype": "text/x-python",
   "name": "python",
   "nbconvert_exporter": "python",
   "pygments_lexer": "ipython3",
   "version": "3.10.1"
  },
  "vscode": {
   "interpreter": {
    "hash": "e0b73bf0396c54239b5db53fa6ce5020aa7061581eb5483dcd2fb5f36e3a8146"
   }
  }
 },
 "nbformat": 4,
 "nbformat_minor": 2
}
